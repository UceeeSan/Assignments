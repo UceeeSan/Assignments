{
 "cells": [
  {
   "cell_type": "code",
   "execution_count": 2,
   "id": "0893e791",
   "metadata": {
    "scrolled": true
   },
   "outputs": [
    {
     "name": "stdout",
     "output_type": "stream",
     "text": [
      "Enter a string Yusuf\n",
      "Reversed string is = 'fusuY'\n"
     ]
    }
   ],
   "source": [
    "## Reverse String assignment\n",
    "\n",
    "s=input(\"Enter a string \")\n",
    "s=s[::-1]\n",
    "print(f\"Reversed string is = '{s}'\")"
   ]
  },
  {
   "cell_type": "code",
   "execution_count": 2,
   "id": "65d5aad3",
   "metadata": {},
   "outputs": [
    {
     "name": "stdout",
     "output_type": "stream",
     "text": [
      "Enter the length of list9\n",
      "Enter a number1\n",
      "Enter a number2\n",
      "Enter a number3\n",
      "Enter a number4\n",
      "Enter a number5\n",
      "Enter a number6\n",
      "Enter a number7\n",
      "Enter a number8\n",
      "Enter a number9\n",
      "List = [1, 2, 3, 4, 5, 6, 7, 8, 9]\n",
      "Number of even numbers = 4\n",
      "Number of odd numbers = 5\n"
     ]
    }
   ],
   "source": [
    "## Odd even assignment\n",
    "\n",
    "n=int(input(\"Enter the length of list\"))\n",
    "lst=[]\n",
    "for j in range(n):\n",
    "    num=int(input(\"Enter a number\"))\n",
    "    lst.append(num)\n",
    "print(f\"List = {lst}\")   \n",
    "even=0\n",
    "odd=0\n",
    "for i in lst:\n",
    "    if i%2==0:\n",
    "        even+=1\n",
    "    else:\n",
    "        odd+=1\n",
    "print(f\"Number of even numbers = {even}\")\n",
    "print(f\"Number of odd numbers = {odd}\")\n",
    "\n",
    "    "
   ]
  },
  {
   "cell_type": "code",
   "execution_count": 3,
   "id": "0837df1b",
   "metadata": {},
   "outputs": [
    {
     "name": "stdout",
     "output_type": "stream",
     "text": [
      "Enter a number50\n",
      "0\n",
      "1\n",
      "1\n",
      "2\n",
      "3\n",
      "5\n",
      "8\n",
      "13\n",
      "21\n",
      "34\n"
     ]
    }
   ],
   "source": [
    "##Fibonacci series\n",
    "\n",
    "x=int(input(\"Enter a number\"))\n",
    "a=0\n",
    "b=1 \n",
    "c=0\n",
    "print(a)\n",
    "print(b)\n",
    "while b<x:\n",
    "    c=a+b\n",
    "    a=b\n",
    "    b=c\n",
    "    if b<=x:\n",
    "        print(b)\n",
    "    else:\n",
    "        break"
   ]
  },
  {
   "cell_type": "code",
   "execution_count": null,
   "id": "c536391f",
   "metadata": {},
   "outputs": [],
   "source": []
  }
 ],
 "metadata": {
  "kernelspec": {
   "display_name": "Python 3",
   "language": "python",
   "name": "python3"
  },
  "language_info": {
   "codemirror_mode": {
    "name": "ipython",
    "version": 3
   },
   "file_extension": ".py",
   "mimetype": "text/x-python",
   "name": "python",
   "nbconvert_exporter": "python",
   "pygments_lexer": "ipython3",
   "version": "3.8.8"
  }
 },
 "nbformat": 4,
 "nbformat_minor": 5
}
