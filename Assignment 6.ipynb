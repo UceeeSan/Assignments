{
 "cells": [
  {
   "cell_type": "code",
   "execution_count": 4,
   "id": "dd5765cd",
   "metadata": {},
   "outputs": [
    {
     "name": "stdout",
     "output_type": "stream",
     "text": [
      "[{'employee1': {'name': 'Yusuf Nadim', 'DOB': '06-08-1998', 'Height': \"5'9\", 'State': 'WestBengal', 'City': 'Kolkata'}, 'employee2': {'name': 'Kaashif Zaman', 'DOB': '19-10-1998', 'Height': \"5'6\", 'State': 'WestBengal', 'City': 'Kolkata'}, 'employee3': {'name': 'Ashish Singh', 'DOB': '05-08-1998', 'Height': \"5'7\", 'State': 'WestBengal', 'City': 'Kolkata'}, 'employee4': {'name': 'Raghav Somani', 'DOB': '19-03-1998', 'Height': \"5'8\", 'State': 'WestBengal', 'City': 'Kolkata'}, 'employee5': {'name': 'Amjad Ali', 'DOB': '28-08-1998', 'Height': \"5'9\", 'State': 'WestBengal', 'City': 'Kolkata'}}]\n"
     ]
    }
   ],
   "source": [
    "#1 Employee Json\n",
    "import json\n",
    "file=open('employee.json')\n",
    "data=json.load(file)\n",
    "lst_Employee=[]\n",
    "lst_Employee.append(data['employees'])\n",
    "print(lst_Employee)"
   ]
  },
  {
   "cell_type": "code",
   "execution_count": 12,
   "id": "1f6f06e2",
   "metadata": {},
   "outputs": [
    {
     "name": "stdout",
     "output_type": "stream",
     "text": [
      "<_io.TextIOWrapper name='statefile.json' mode='w' encoding='cp1252'>\n"
     ]
    }
   ],
   "source": [
    "#1 part 2-State & Capital\n",
    "state_capital={'Maharastra':'Mumbai','Karnataka':'Bangalore','WestBengal':'Kolkata','Telangana':'Hyderabad','Patna':'Bihar',\n",
    "               'Odisha':'Bhubneshwar','Chattisgarh':'Raipur'}\n",
    "state_file=open('statefile.json','w')\n",
    "json.dump(state_capital,state_file)\n",
    "state_file.close()\n",
    "print(state_file)"
   ]
  },
  {
   "cell_type": "code",
   "execution_count": 26,
   "id": "64c11f64",
   "metadata": {},
   "outputs": [
    {
     "name": "stdout",
     "output_type": "stream",
     "text": [
      "The color of the coat is White\n",
      "Jack says Whooff!\n",
      "Jack is 3 years old\n",
      "The color of the coat is Grey\n",
      "Tyson says Whooffyy!!!\n",
      "Tyson is 4 years old\n"
     ]
    }
   ],
   "source": [
    "#2 Class Dog\n",
    "class dog():\n",
    "    def __init__(self,name,age,coat_color):\n",
    "        self.name=name\n",
    "        self.age=age\n",
    "        self.coat_color=coat_color\n",
    "    def get_info(self):\n",
    "        print(f\"The color of the coat is {self.coat_color}\")\n",
    "class JackRussellTerrier(dog):\n",
    "    def __init__(self,name,age,coat_color):\n",
    "        super().__init__(name,age,coat_color)\n",
    "    def bark(self):\n",
    "        print(f\"{self.name} says Whooff!\")\n",
    "    def Age(self):\n",
    "        print(f\"{self.name} is {self.age} years old\")\n",
    "class Bulldog(dog):\n",
    "    def __init__(self,name,age,coat_color):\n",
    "        super().__init__(name,age,coat_color)\n",
    "    def bark(self):\n",
    "        print(f\"{self.name} says Whooffyy!!!\")\n",
    "    def Age(self):\n",
    "        print(f\"{self.name} is {self.age} years old\")\n",
    "dog1=JackRussellTerrier('Jack',3,'White')\n",
    "dog2=Bulldog('Tyson',4,'Grey')\n",
    "dog1.get_info()\n",
    "dog1.bark()\n",
    "dog1.Age()\n",
    "dog2.get_info()\n",
    "dog2.bark()\n",
    "dog2.Age()"
   ]
  },
  {
   "cell_type": "code",
   "execution_count": null,
   "id": "99d04322",
   "metadata": {},
   "outputs": [],
   "source": []
  }
 ],
 "metadata": {
  "kernelspec": {
   "display_name": "Python 3 (ipykernel)",
   "language": "python",
   "name": "python3"
  },
  "language_info": {
   "codemirror_mode": {
    "name": "ipython",
    "version": 3
   },
   "file_extension": ".py",
   "mimetype": "text/x-python",
   "name": "python",
   "nbconvert_exporter": "python",
   "pygments_lexer": "ipython3",
   "version": "3.9.12"
  }
 },
 "nbformat": 4,
 "nbformat_minor": 5
}
