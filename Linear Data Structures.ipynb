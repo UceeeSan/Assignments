{
 "cells": [
  {
   "cell_type": "code",
   "execution_count": 8,
   "id": "47c0c7a3",
   "metadata": {},
   "outputs": [
    {
     "name": "stdout",
     "output_type": "stream",
     "text": [
      "Enter the value of sum10\n",
      "Enter the length of an the array6\n",
      "Enter the number 1\n",
      "Enter the number 9\n",
      "Enter the number 4\n",
      "Enter the number 5\n",
      "Enter the number 6\n",
      "Enter the number 8\n",
      "(1, 9)\n",
      "(4, 6)\n"
     ]
    }
   ],
   "source": [
    "#Q1. Pair Sum\n",
    "s=int(input(\"Enter the value of sum\"))\n",
    "n=int(input(\"Enter the length of an the array\"))\n",
    "lst=[]\n",
    "for i in range(n):\n",
    "    k=int(input('Enter the number '))\n",
    "    lst.append(k)\n",
    "for i in range(n-1):\n",
    "    for j in range(i+1,n):\n",
    "        if lst[i]+lst[j]==s:\n",
    "            print((lst[i],lst[j]))\n",
    "        "
   ]
  },
  {
   "cell_type": "code",
   "execution_count": 1,
   "id": "527df8af",
   "metadata": {},
   "outputs": [
    {
     "data": {
      "text/plain": [
       "[4, 3, 2, 1]"
      ]
     },
     "execution_count": 1,
     "metadata": {},
     "output_type": "execute_result"
    }
   ],
   "source": [
    "#2. Reverse Array in place\n",
    "lst=[1,2,3,4]\n",
    "for i in range(len(lst)-1):\n",
    "    p=lst.pop(-1)\n",
    "    lst.insert(i,p)\n",
    "lst"
   ]
  },
  {
   "cell_type": "code",
   "execution_count": 3,
   "id": "6187538b",
   "metadata": {},
   "outputs": [
    {
     "name": "stdout",
     "output_type": "stream",
     "text": [
      "True\n",
      "False\n"
     ]
    }
   ],
   "source": [
    "#3. Check string rotation\n",
    "def string_rotation(s,t):\n",
    "    l={}\n",
    "    if len(s)!=len(t):\n",
    "        return False\n",
    "    for i in s:\n",
    "        if i not in l:\n",
    "            l[i]=1\n",
    "        else:\n",
    "            l[i]+=1\n",
    "    \n",
    "    for i in t:\n",
    "        if i not in l:\n",
    "            return False\n",
    "        else:\n",
    "            l[i]-=1\n",
    "            if l[i]<0:\n",
    "                return False\n",
    "    return True\n",
    "print(string_rotation('some','mose'))\n",
    "print(string_rotation('some','somee'))"
   ]
  },
  {
   "cell_type": "code",
   "execution_count": 6,
   "id": "cf18c007",
   "metadata": {},
   "outputs": [
    {
     "name": "stdout",
     "output_type": "stream",
     "text": [
      "First non-repeating character is l\n"
     ]
    }
   ],
   "source": [
    "#4.Print first unique occuring letter\n",
    "string = \"cocacola\"\n",
    "index = -1\n",
    "fnc = \"\"\n",
    "for i in string:\n",
    "    if string.count(i) == 1:\n",
    "        fnc += i\n",
    "        break\n",
    "    else:\n",
    "        index += 1\n",
    "if index == 1:\n",
    "    print(\"Either all characters are repeating or string is empty\")\n",
    "else:\n",
    "    print(\"First non-repeating character is\", fnc)"
   ]
  },
  {
   "cell_type": "code",
   "execution_count": 7,
   "id": "fb67a14d",
   "metadata": {},
   "outputs": [
    {
     "name": "stdout",
     "output_type": "stream",
     "text": [
      "Move disk 1 from rod A to rod B\n",
      "Move disk 2 from rod A to rod C\n",
      "Move disk 1 from rod B to rod C\n",
      "Move disk 3 from rod A to rod B\n",
      "Move disk 1 from rod C to rod A\n",
      "Move disk 2 from rod C to rod B\n",
      "Move disk 1 from rod A to rod B\n"
     ]
    }
   ],
   "source": [
    "#5. Tower of Hanoi\n",
    "def TowerOfHanoi(n, from_rod, to_rod, aux_rod):\n",
    "    if n == 0:\n",
    "        return\n",
    "    TowerOfHanoi(n-1, from_rod, aux_rod, to_rod)\n",
    "    print(\"Move disk\", n, \"from rod\", from_rod, \"to rod\", to_rod)\n",
    "    TowerOfHanoi(n-1, aux_rod, to_rod, from_rod)\n",
    "TowerOfHanoi(3,'A','B','C')"
   ]
  },
  {
   "cell_type": "code",
   "execution_count": 13,
   "id": "bd648dee",
   "metadata": {},
   "outputs": [
    {
     "name": "stdout",
     "output_type": "stream",
     "text": [
      "Prefix :  +AB-CD\n"
     ]
    }
   ],
   "source": [
    "#6. Postfix to prefix\n",
    "def isOperator(x):\n",
    " \n",
    "    if x == \"+\":\n",
    "        return True\n",
    " \n",
    "    if x == \"-\":\n",
    "        return True\n",
    " \n",
    "    if x == \"/\":\n",
    "        return True\n",
    " \n",
    "    if x == \"*\":\n",
    "        return True\n",
    " \n",
    "    return False\n",
    " \n",
    "def postToPre(post_exp):\n",
    "    s = []\n",
    "    length = len(post_exp)\n",
    "    for i in range(length):\n",
    "        if (isOperator(post_exp[i])):\n",
    " \n",
    "            op1 = s[-1]\n",
    "            s.pop()\n",
    "            op2 = s[-1]\n",
    "            s.pop()\n",
    "            temp = post_exp[i] + op2 + op1\n",
    "            s.append(temp)\n",
    "        else:\n",
    "            s.append(post_exp[i])\n",
    "    \n",
    "    ans = \"\"\n",
    "    for i in s:\n",
    "        ans += i\n",
    "    return ans\n",
    " \n",
    "if __name__ == \"__main__\":\n",
    "    post_exp = \"AB+CD-\"\n",
    "    print(\"Prefix : \", postToPre(post_exp))"
   ]
  },
  {
   "cell_type": "code",
   "execution_count": 9,
   "id": "29ece5cd",
   "metadata": {},
   "outputs": [
    {
     "name": "stdout",
     "output_type": "stream",
     "text": [
      "True\n",
      "False\n"
     ]
    }
   ],
   "source": [
    "#8. Check if all brackets are closed in a snippet\n",
    "def isValid(s):\n",
    "    lst=[]\n",
    "    if len(s)==1:\n",
    "        return False\n",
    "    else:\n",
    "        for i in range(len(s)):\n",
    "            if (s[i]=='[') or (s[i]=='{') or (s[i]=='('):\n",
    "                lst.append(s[i])\n",
    "            if lst!=[]:\n",
    "                if (s[i]==']') or (s[i]=='}') or (s[i]==')'):\n",
    "                    if (lst[-1]=='[' and s[i]==']') or (lst[-1]=='{' and s[i]=='}') or (lst[-1]=='(' and s[i]==')'):\n",
    "                        lst.pop()\n",
    "                        continue\n",
    "                    else:\n",
    "                        break\n",
    "            else: \n",
    "                return False\n",
    "        if lst==[]:\n",
    "            return True\n",
    "        else:\n",
    "            return False\n",
    "print(isValid('({[{}]})'))\n",
    "print(isValid('[{(}]'))"
   ]
  },
  {
   "cell_type": "code",
   "execution_count": 3,
   "id": "4b14e4de",
   "metadata": {
    "scrolled": true
   },
   "outputs": [
    {
     "name": "stdout",
     "output_type": "stream",
     "text": [
      "Original Stack\n",
      "5\n",
      "4\n",
      "3\n",
      "2\n",
      "1\n",
      "\n",
      "Stack after Reversing\n",
      "1\n",
      "2\n",
      "3\n",
      "4\n",
      "5\n"
     ]
    }
   ],
   "source": [
    "#9. Reverse a Stack\n",
    "class Stack:\n",
    " \n",
    "    def __init__(self):\n",
    "        self.Elements = []\n",
    "         \n",
    "    def push(self, value):\n",
    "        self.Elements.append(value)\n",
    "       \n",
    "    def pop(self):\n",
    "        return self.Elements.pop()\n",
    "     \n",
    "    def empty(self):\n",
    "        return self.Elements == []\n",
    "     \n",
    "    def show(self):\n",
    "        for value in reversed(self.Elements):\n",
    "            print(value)\n",
    "\n",
    "def BottomInsert(s, value):\n",
    "    if s.empty():\n",
    "        s.push(value)\n",
    "    else:\n",
    "        popped = s.pop()\n",
    "        BottomInsert(s, value)\n",
    "        s.push(popped)\n",
    "\n",
    "def Reverse(s):\n",
    "    if s.empty():\n",
    "        pass\n",
    "    else:\n",
    "        popped = s.pop()\n",
    "        Reverse(s)\n",
    "        BottomInsert(s, popped)\n",
    "\n",
    "stk = Stack()\n",
    " \n",
    "stk.push(1)\n",
    "stk.push(2)\n",
    "stk.push(3)\n",
    "stk.push(4)\n",
    "stk.push(5)\n",
    " \n",
    "print(\"Original Stack\")\n",
    "stk.show()\n",
    " \n",
    "print(\"\\nStack after Reversing\")\n",
    "Reverse(stk)\n",
    "stk.show()"
   ]
  },
  {
   "cell_type": "code",
   "execution_count": 12,
   "id": "843ba675",
   "metadata": {},
   "outputs": [
    {
     "data": {
      "text/plain": [
       "2"
      ]
     },
     "execution_count": 12,
     "metadata": {},
     "output_type": "execute_result"
    }
   ],
   "source": [
    "#10. To find smallest number using a stack\n",
    "class Stack:\n",
    " \n",
    "    def __init__(self):\n",
    "        self.Elements = []\n",
    "         \n",
    "    def push(self, value):\n",
    "        self.Elements.append(value)\n",
    "       \n",
    "    def pop(self):\n",
    "        return self.Elements.pop()\n",
    "     \n",
    "    def empty(self):\n",
    "        return self.Elements == []\n",
    "     \n",
    "    def show(self):\n",
    "        for value in reversed(self.Elements):\n",
    "            print(value)\n",
    "    def peek(self):\n",
    "        return self.Elements[-1]\n",
    "    \n",
    "lst=[9,4,3,2,5,6]\n",
    "\n",
    "def smallest(lst):\n",
    "    small=lst[0]\n",
    "    stack=Stack()\n",
    "    for i in range(1,len(lst)):\n",
    "        if lst[i]>=small:\n",
    "            stack.push(lst[i])\n",
    "        else:\n",
    "            small=lst[i]\n",
    "    return small\n",
    "\n",
    "smallest(lst)        "
   ]
  },
  {
   "cell_type": "code",
   "execution_count": null,
   "id": "b52e847b",
   "metadata": {},
   "outputs": [],
   "source": []
  }
 ],
 "metadata": {
  "kernelspec": {
   "display_name": "Python 3 (ipykernel)",
   "language": "python",
   "name": "python3"
  },
  "language_info": {
   "codemirror_mode": {
    "name": "ipython",
    "version": 3
   },
   "file_extension": ".py",
   "mimetype": "text/x-python",
   "name": "python",
   "nbconvert_exporter": "python",
   "pygments_lexer": "ipython3",
   "version": "3.9.12"
  }
 },
 "nbformat": 4,
 "nbformat_minor": 5
}
