{
 "cells": [
  {
   "cell_type": "code",
   "execution_count": 16,
   "id": "d3331d66",
   "metadata": {},
   "outputs": [
    {
     "name": "stdout",
     "output_type": "stream",
     "text": [
      "[(2, 1), (1, 2), (2, 3), (4, 4), (2, 5)]\n"
     ]
    }
   ],
   "source": [
    "#Sorting list by last element of nested tuple\n",
    "\n",
    "tup=[(2, 5), (1, 2), (4, 4), (2, 3), (2, 1)]\n",
    "lst = len(tup)\n",
    "for i in range(0, lst):\n",
    "    for j in range(0, lst-i-1):\n",
    "        if (tup[j][-1] > tup[j + 1][-1]):\n",
    "            temp = tup[j]\n",
    "            tup[j]= tup[j + 1]\n",
    "            tup[j + 1]= temp\n",
    "print(tup)\n",
    "    "
   ]
  },
  {
   "cell_type": "code",
   "execution_count": 14,
   "id": "77e9dc13",
   "metadata": {},
   "outputs": [
    {
     "name": "stdout",
     "output_type": "stream",
     "text": [
      "{'a': 97, 'b': 98, 'c': 99, 'd': 100, 'e': 101, 'f': 102, 'g': 103, 'h': 104, 'i': 105, 'j': 106, 'k': 107, 'l': 108, 'm': 109, 'n': 110, 'o': 111, 'p': 112, 'q': 113, 'r': 114, 's': 115, 't': 116, 'u': 117, 'v': 118, 'w': 119, 'x': 120, 'y': 121, 'z': 122}\n"
     ]
    }
   ],
   "source": [
    "#Dictionary of letter and ascii value pair\n",
    "\n",
    "import string\n",
    "lowercase=[]\n",
    "lowercase.extend(string.ascii_lowercase)\n",
    "letter={}\n",
    "for i in lowercase:\n",
    "    letter.update({i:ord(i)})\n",
    "print(letter)\n"
   ]
  }
 ],
 "metadata": {
  "kernelspec": {
   "display_name": "Python 3",
   "language": "python",
   "name": "python3"
  },
  "language_info": {
   "codemirror_mode": {
    "name": "ipython",
    "version": 3
   },
   "file_extension": ".py",
   "mimetype": "text/x-python",
   "name": "python",
   "nbconvert_exporter": "python",
   "pygments_lexer": "ipython3",
   "version": "3.8.8"
  }
 },
 "nbformat": 4,
 "nbformat_minor": 5
}
