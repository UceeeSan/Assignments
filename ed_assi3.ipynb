{
 "cells": [
  {
   "cell_type": "code",
   "execution_count": 2,
   "id": "34bf3760",
   "metadata": {},
   "outputs": [
    {
     "data": {
      "text/plain": [
       "20"
      ]
     },
     "execution_count": 2,
     "metadata": {},
     "output_type": "execute_result"
    }
   ],
   "source": [
    "# Function to add all elements of a list\n",
    "\n",
    "def sumlst(l):\n",
    "    s=0\n",
    "    for i in l:\n",
    "        s+=i\n",
    "    return s\n",
    "sumlst([8,2,3,0,7])"
   ]
  },
  {
   "cell_type": "code",
   "execution_count": 13,
   "id": "ed3d8c12",
   "metadata": {},
   "outputs": [
    {
     "name": "stdout",
     "output_type": "stream",
     "text": [
      "Enter a String1234abcd\n"
     ]
    },
    {
     "data": {
      "text/plain": [
       "'dcba4321'"
      ]
     },
     "execution_count": 13,
     "metadata": {},
     "output_type": "execute_result"
    }
   ],
   "source": [
    "# Reverse string Function\n",
    "def rev(s):\n",
    "    r=\"\"\n",
    "    for i in reversed(range(len(s))):\n",
    "        r=r+s[i]\n",
    "    return r\n",
    "s=input(\"Enter a String\")\n",
    "rev(s)"
   ]
  },
  {
   "cell_type": "code",
   "execution_count": 16,
   "id": "c0d6be5f",
   "metadata": {},
   "outputs": [
    {
     "name": "stdout",
     "output_type": "stream",
     "text": [
      "Enter a string The quick Brow Fox\n",
      "The number of uppercase letters are 3\n",
      "The number of lowercase letters are 12\n"
     ]
    }
   ],
   "source": [
    "#Uppercase & Lowercase\n",
    "def count_case(s):\n",
    "    upper=0\n",
    "    lower=0\n",
    "    for i in range(len(s)):\n",
    "        if s[i].isupper():\n",
    "            upper+=1\n",
    "        elif s[i].islower():\n",
    "            lower+=1\n",
    "        else:\n",
    "            pass\n",
    "    print(f\"The number of uppercase letters are {upper}\")\n",
    "    print(f\"The number of lowercase letters are {lower}\")\n",
    "            \n",
    "s1=input(\"Enter a string \") \n",
    "count_case(s1)"
   ]
  },
  {
   "cell_type": "code",
   "execution_count": null,
   "id": "3cba2a99",
   "metadata": {},
   "outputs": [],
   "source": []
  }
 ],
 "metadata": {
  "kernelspec": {
   "display_name": "Python 3",
   "language": "python",
   "name": "python3"
  },
  "language_info": {
   "codemirror_mode": {
    "name": "ipython",
    "version": 3
   },
   "file_extension": ".py",
   "mimetype": "text/x-python",
   "name": "python",
   "nbconvert_exporter": "python",
   "pygments_lexer": "ipython3",
   "version": "3.8.8"
  }
 },
 "nbformat": 4,
 "nbformat_minor": 5
}
