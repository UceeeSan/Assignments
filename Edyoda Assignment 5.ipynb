{
 "cells": [
  {
   "cell_type": "code",
   "execution_count": 3,
   "id": "02857a67",
   "metadata": {},
   "outputs": [
    {
     "name": "stdout",
     "output_type": "stream",
     "text": [
      "29\n"
     ]
    }
   ],
   "source": [
    "#1 Square Number and return Sum\n",
    "class point():\n",
    "    def __init__(self,x,y,z):\n",
    "        self.x=x\n",
    "        self.y=y\n",
    "        self.z=z\n",
    "    def sqSum(self):\n",
    "        return self.x**2 + self.y**2 + self.z**2\n",
    "point1=point(2,3,4)\n",
    "print(point1.sqSum())"
   ]
  },
  {
   "cell_type": "code",
   "execution_count": 9,
   "id": "9d52d25f",
   "metadata": {},
   "outputs": [
    {
     "name": "stdout",
     "output_type": "stream",
     "text": [
      "104\n",
      "84\n",
      "940\n",
      "9.4\n"
     ]
    }
   ],
   "source": [
    "#2 Calculator Class\n",
    "class Calculator():\n",
    "    def __init__(self,num1,num2):\n",
    "        self.num1=num1\n",
    "        self.num2=num2\n",
    "    def add(self):\n",
    "        return self.num1+self.num2\n",
    "    def subtract(self):\n",
    "        return self.num2-self.num1\n",
    "    def multiply(self):\n",
    "        return self.num1*self.num2\n",
    "    def divide(self):\n",
    "        return self.num2/self.num1\n",
    "obj = Calculator(10, 94)\n",
    "print(obj.add())\n",
    "print(obj.subtract())\n",
    "print(obj.multiply())\n",
    "print(obj.divide()) "
   ]
  },
  {
   "cell_type": "code",
   "execution_count": 16,
   "id": "f495b06d",
   "metadata": {},
   "outputs": [
    {
     "name": "stdout",
     "output_type": "stream",
     "text": [
      "Yusuf\n",
      "7\n"
     ]
    }
   ],
   "source": [
    "#3 Student Class\n",
    "class Student:\n",
    "\n",
    "    def setName(self,name):\n",
    "        self.__name=name\n",
    "    def getName(self):\n",
    "        return self.__name\n",
    "    def setRollNumber(self,RollNumber):\n",
    "        self.__RollNumber=RollNumber\n",
    "    def getRollNumber(self):\n",
    "        return self.__RollNumber\n",
    "s1=Student()\n",
    "s1.setName(\"Yusuf\")\n",
    "s1.setRollNumber(7)\n",
    "print(s1.getName())\n",
    "print(s1.getRollNumber())"
   ]
  },
  {
   "cell_type": "code",
   "execution_count": 20,
   "id": "60d5bd20",
   "metadata": {},
   "outputs": [],
   "source": [
    "#4 Implementing a bank account\n",
    "class Account():\n",
    "    def __init__(self,title=None,balance=0):\n",
    "        self.title=title\n",
    "        self.balance=balance\n",
    "class SavingsAccount(Account):\n",
    "    def __init__(self,title,balance,interestRate):\n",
    "        super().__init__(title, balance)\n",
    "        self.interestRate = interestRate"
   ]
  },
  {
   "cell_type": "code",
   "execution_count": 30,
   "id": "2aa5168c",
   "metadata": {},
   "outputs": [],
   "source": [
    "#5 Handling a bank account\n",
    "class Account():\n",
    "    def __init__(self,title=None,balance=0):\n",
    "        self.title=title\n",
    "        self.balance=balance\n",
    "    def withdrawal(self, amount):\n",
    "        self.balance-=amount\n",
    "\n",
    "    def deposit(self, amount):\n",
    "        self.balance+=amount\n",
    "    def getBalance(self):\n",
    "        return self.balance\n",
    "    \n",
    "class SavingsAccount(Account):\n",
    "    def __init__(self,title,balance,interestRate=0):\n",
    "        super().__init__(title, balance)\n",
    "        self.interestRate = interestRate\n",
    "    def interestAmount(self):\n",
    "        return (self.interestRate*self.balance)/100"
   ]
  },
  {
   "cell_type": "code",
   "execution_count": 31,
   "id": "7daa70c9",
   "metadata": {},
   "outputs": [
    {
     "data": {
      "text/plain": [
       "5500"
      ]
     },
     "execution_count": 31,
     "metadata": {},
     "output_type": "execute_result"
    }
   ],
   "source": [
    "A1=Account(\"Yusuf\",5000)\n",
    "A1.deposit(750)\n",
    "A1.withdrawal(250)\n",
    "A1.getBalance()"
   ]
  },
  {
   "cell_type": "code",
   "execution_count": 32,
   "id": "d47d3991",
   "metadata": {},
   "outputs": [
    {
     "data": {
      "text/plain": [
       "700.0"
      ]
     },
     "execution_count": 32,
     "metadata": {},
     "output_type": "execute_result"
    }
   ],
   "source": [
    "A2=SavingsAccount(\"Nadim\",7000,10)\n",
    "A2.interestAmount()"
   ]
  },
  {
   "cell_type": "code",
   "execution_count": null,
   "id": "ecc486eb",
   "metadata": {},
   "outputs": [],
   "source": []
  }
 ],
 "metadata": {
  "kernelspec": {
   "display_name": "Python 3 (ipykernel)",
   "language": "python",
   "name": "python3"
  },
  "language_info": {
   "codemirror_mode": {
    "name": "ipython",
    "version": 3
   },
   "file_extension": ".py",
   "mimetype": "text/x-python",
   "name": "python",
   "nbconvert_exporter": "python",
   "pygments_lexer": "ipython3",
   "version": "3.9.12"
  }
 },
 "nbformat": 4,
 "nbformat_minor": 5
}
